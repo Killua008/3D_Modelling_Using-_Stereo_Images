{
 "cells": [
  {
   "cell_type": "code",
   "execution_count": null,
   "id": "f91b0df6",
   "metadata": {},
   "outputs": [],
   "source": []
  },
  {
   "cell_type": "code",
   "execution_count": 1,
   "id": "37b44ec3",
   "metadata": {},
   "outputs": [],
   "source": [
    "import cv2 \n",
    "import numpy as np\n",
    "from PIL import Image\n",
    "def createdepthmap(left,right,img,lrsimilarity,tbsimilarity,fimage):\n",
    "    depth_map = cv2.normalize(src=fimage, dst=fimage, beta=0, alpha=255, norm_type=cv2.NORM_MINMAX);\n",
    "    depth_map = np.uint8(depth_map)\n",
    "    if (tbsimilarity > lrsimilarity):\n",
    "        depth_map = cv2.bitwise_not(depth_map)\n",
    "    depth_image = Image.fromarray(depth_map, mode=\"L\")\n",
    "    colours_array  = np.array(left.resize(img.size)\n",
    "                                .rotate(-90, expand=True)\n",
    "                                .getdata()\n",
    "                    ).reshape(img.size + (3,))\n",
    "    return depth_image,colours_array"
   ]
  },
  {
   "cell_type": "code",
   "execution_count": 2,
   "id": "f4247852",
   "metadata": {},
   "outputs": [],
   "source": [
    "import cv2\n",
    "import numpy as np\n",
    "def lrmatcher(window_size,limage,rimage):\n",
    "    lmatcher = cv2.StereoSGBM_create(\n",
    "                minDisparity=0,\n",
    "                numDisparities=16,\n",
    "                blockSize=5,\n",
    "                P1=8 * 3 * window_size ** 2,\n",
    "                P2=32 * 3 * window_size ** 2,\n",
    "            )         \n",
    "    rmatcher = cv2.ximgproc.createRightMatcher(lmatcher)\n",
    "    wls_filter = cv2.ximgproc.createDisparityWLSFilter(matcher_left=lmatcher)\n",
    "    wls_filter.setLambda(80000)\n",
    "    wls_filter.setSigmaColor(1.2)\n",
    "    left_disparity  = lmatcher.compute(limage, rimage)\n",
    "    right_disparity = rmatcher.compute(rimage, limage)\n",
    "    left_disparity  = np.int16(left_disparity)\n",
    "    right_disparity = np.int16(right_disparity)\n",
    "    imagefiltered  = wls_filter.filter(left_disparity, limage, None, right_disparity)\n",
    "    return imagefiltered"
   ]
  },
  {
   "cell_type": "code",
   "execution_count": 4,
   "id": "fced24bb",
   "metadata": {},
   "outputs": [
    {
     "name": "stdout",
     "output_type": "stream",
     "text": [
      "Collecting pyntcloudNote: you may need to restart the kernel to use updated packages.\n",
      "  Downloading pyntcloud-0.3.1-py2.py3-none-any.whl (346 kB)\n",
      "     -------------------------------------- 346.3/346.3 KB 1.0 MB/s eta 0:00:00\n",
      "Requirement already satisfied: pandas in c:\\users\\mookambika\\appdata\\local\\programs\\python\\python37\\lib\\site-packages (from pyntcloud) (1.3.5)\n",
      "Requirement already satisfied: numpy in c:\\users\\mookambika\\appdata\\local\\programs\\python\\python37\\lib\\site-packages (from pyntcloud) (1.21.2)\n",
      "Requirement already satisfied: scipy>=1.6.0 in c:\\users\\mookambika\\appdata\\local\\programs\\python\\python37\\lib\\site-packages (from pyntcloud) (1.7.1)\n",
      "Requirement already satisfied: pytz>=2017.3 in c:\\users\\mookambika\\appdata\\local\\programs\\python\\python37\\lib\\site-packages (from pandas->pyntcloud) (2021.3)\n",
      "Requirement already satisfied: python-dateutil>=2.7.3 in c:\\users\\mookambika\\appdata\\local\\programs\\python\\python37\\lib\\site-packages (from pandas->pyntcloud) (2.8.2)\n",
      "Requirement already satisfied: six>=1.5 in c:\\users\\mookambika\\appdata\\local\\programs\\python\\python37\\lib\\site-packages (from python-dateutil>=2.7.3->pandas->pyntcloud) (1.16.0)\n",
      "Installing collected packages: pyntcloud\n",
      "Successfully installed pyntcloud-0.3.1\n",
      "\n"
     ]
    },
    {
     "name": "stderr",
     "output_type": "stream",
     "text": [
      "WARNING: You are using pip version 22.0.2; however, version 22.2.2 is available.\n",
      "You should consider upgrading via the 'c:\\users\\mookambika\\appdata\\local\\programs\\python\\python37\\python.exe -m pip install --upgrade pip' command.\n"
     ]
    }
   ],
   "source": [
    "pip install pyntcloud"
   ]
  },
  {
   "cell_type": "code",
   "execution_count": 4,
   "id": "f84ef3cf",
   "metadata": {},
   "outputs": [],
   "source": [
    "import pandas as pd\n",
    "import numpy as np\n",
    "import cv2\n",
    "import argparse\n",
    "from pyntcloud import PyntCloud   \n",
    "from PIL import Image\n",
    "def createmesh(filename):\n",
    "    img = Image.open(filename).convert('RGB')\n",
    "    w, h = img.size\n",
    "    r  = img.crop( (0,0, w/2, h))\n",
    "    l   = img.crop( (w/2, 0, w,h))\n",
    "    t    = img.crop( (0,0, w, h/2))\n",
    "    b = img.crop( (0, h/2, w,h))\n",
    "    try:\n",
    "        l_r_same = mse(np.array(r),np.array(l))\n",
    "        t_b_same = mse(np.array(t),np.array(b))\n",
    "    except:\n",
    "        return 0\n",
    "    if (t_b_same < l_r_same):\n",
    "        l  = b\n",
    "        r = t\n",
    "    image_l  = np.array(l) \n",
    "    image_r = np.array(r) \n",
    "    window_size = 15\n",
    "    filtered_image  =lrmatcher(window_size,image_l,image_r)\n",
    "    depth_image,coloursarray=createdepthmap(l,r,img,l_r_same,t_b_same,filtered_image)\n",
    "    indicesarray = np.moveaxis(np.indices(img.size), 0, 2)\n",
    "    image_Array    = np.dstack((indicesarray, coloursarray)).reshape((-1,5))\n",
    "    df = pd.DataFrame(image_Array, columns=[\"x\", \"y\", \"red\",\"green\",\"blue\"])\n",
    "    depths_array = np.array(depth_image.resize(img.size)\n",
    "                                        .rotate(-90, expand=True)\n",
    "                                        .getdata())     \n",
    "    df.insert(loc=2, column='z', value=depths_array)\n",
    "    df[['red','green','blue']] = df[['red','green','blue']].astype(np.uint)\n",
    "    df[['x','y','z']] = df[['x','y','z']].astype(float)\n",
    "    df['z'] = df['z']*5\n",
    "    cloud = PyntCloud(df)\n",
    "    cloud.to_file(filename+\".ply\", also_save=[\"mesh\",\"points\"],as_text=True)\n",
    "    return 1\n",
    "def mse(imageA, imageB):\n",
    "    err = np.sum((imageA.astype(\"float\") - imageB.astype(\"float\")) ** 2)\n",
    "    err /= float(imageA.shape[0] * imageA.shape[1])\n",
    "    return err"
   ]
  },
  {
   "cell_type": "code",
   "execution_count": 10,
   "id": "9e3ee64f",
   "metadata": {},
   "outputs": [
    {
     "data": {
      "text/plain": [
       "1"
      ]
     },
     "execution_count": 10,
     "metadata": {},
     "output_type": "execute_result"
    }
   ],
   "source": [
    "createmesh('home.png')"
   ]
  },
  {
   "cell_type": "code",
   "execution_count": 18,
   "id": "869c799a",
   "metadata": {},
   "outputs": [
    {
     "name": "stdout",
     "output_type": "stream",
     "text": [
      "4.5.3\n"
     ]
    }
   ],
   "source": [
    "print(cv2.__version__)"
   ]
  },
  {
   "cell_type": "code",
   "execution_count": null,
   "id": "39a5dcfa",
   "metadata": {},
   "outputs": [],
   "source": []
  }
 ],
 "metadata": {
  "kernelspec": {
   "display_name": "Python 3 (ipykernel)",
   "language": "python",
   "name": "python3"
  },
  "language_info": {
   "codemirror_mode": {
    "name": "ipython",
    "version": 3
   },
   "file_extension": ".py",
   "mimetype": "text/x-python",
   "name": "python",
   "nbconvert_exporter": "python",
   "pygments_lexer": "ipython3",
   "version": "3.7.4"
  }
 },
 "nbformat": 4,
 "nbformat_minor": 5
}
